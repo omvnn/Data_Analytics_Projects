{
 "cells": [
  {
   "cell_type": "markdown",
   "metadata": {},
   "source": [
    "Library and Data Source"
   ]
  },
  {
   "cell_type": "code",
   "execution_count": null,
   "metadata": {},
   "outputs": [],
   "source": [
    "# library\n",
    "import pandas as pd\n",
    "\n",
    "# data source\n",
    "df = pd.read_csv('F:\\Data Analyst\\Projects\\cricket\\cricket data .csv')\n",
    "df"
   ]
  },
  {
   "cell_type": "markdown",
   "metadata": {},
   "source": [
    "Data Checking"
   ]
  },
  {
   "cell_type": "code",
   "execution_count": null,
   "metadata": {},
   "outputs": [],
   "source": [
    "# check data type\n",
    "\n",
    "df.info()"
   ]
  },
  {
   "cell_type": "code",
   "execution_count": null,
   "metadata": {},
   "outputs": [],
   "source": [
    "# check data type thru statistics approach\n",
    "\n",
    "df.describe()"
   ]
  },
  {
   "cell_type": "code",
   "execution_count": null,
   "metadata": {},
   "outputs": [],
   "source": [
    "# whole column null check - check for missing data(null)\n",
    "\n",
    "df.isnull().any()"
   ]
  },
  {
   "cell_type": "code",
   "execution_count": null,
   "metadata": {},
   "outputs": [],
   "source": [
    "# checking for data duplications\n",
    "\n",
    "df.duplicated()"
   ]
  },
  {
   "cell_type": "markdown",
   "metadata": {},
   "source": [
    "Data CLeanups + Transform"
   ]
  },
  {
   "cell_type": "code",
   "execution_count": null,
   "metadata": {},
   "outputs": [],
   "source": [
    "# columns name switch\n",
    "\n",
    "df = df.rename(columns = {'NO' : 'Not_Outs','HS' : 'Highest_Inner_Score', 'BF' : 'Balls_Faced', 'SR':'Battling_Strike_Rate'})\n",
    "df.head()"
   ]
  },
  {
   "cell_type": "code",
   "execution_count": null,
   "metadata": {},
   "outputs": [],
   "source": [
    "# null check based on targeted column\n",
    "\n",
    "df[df['Highest_Inner_Score'].isna()==1]"
   ]
  },
  {
   "cell_type": "code",
   "execution_count": null,
   "metadata": {},
   "outputs": [],
   "source": [
    "# removing the null values by filling  \n",
    "\n",
    "df[\"Highest_Inner_Score\"] = df['Highest_Inner_Score'].fillna(0)\n",
    "df['Ave'] = df['Ave'].fillna(0)\n",
    "df['100'] = df['100'].fillna(0)\n",
    "df['0'] = df['0'].fillna(0)\n",
    "df"
   ]
  },
  {
   "cell_type": "code",
   "execution_count": null,
   "metadata": {},
   "outputs": [],
   "source": [
    "# editing the 'Span' column by splitting the '-' and check again the value\n",
    "\n",
    "df['Span'].str.split(pat = '-')\n",
    "df['Span'].str.split(pat = '-').str[0]"
   ]
  },
  {
   "cell_type": "code",
   "execution_count": null,
   "metadata": {},
   "outputs": [],
   "source": [
    "# create new column to replace values from span \n",
    "\n",
    "df['Rookie_Year'] = df['Span'].str.split(pat = '-').str[0]\n",
    "df['Final_year'] = df['Span'].str.split(pat = '-').str[1]\n",
    "df"
   ]
  },
  {
   "cell_type": "code",
   "execution_count": null,
   "metadata": {},
   "outputs": [],
   "source": [
    "# delete span column as we're no longer use it\n",
    "\n",
    "df['Matches'] = df['Mat']\n",
    "df.drop(columns=['Span','Mat'], inplace=True)\n",
    "df.info()"
   ]
  },
  {
   "cell_type": "code",
   "execution_count": null,
   "metadata": {},
   "outputs": [],
   "source": [
    "# separating player from country\n",
    "\n",
    "df['Player'].str.split(pat = '(')\n",
    "df['Player'].str.split(pat = '(').str[0]"
   ]
  },
  {
   "cell_type": "code",
   "execution_count": null,
   "metadata": {},
   "outputs": [],
   "source": [
    "# new columns for country + seperated players from origins \n",
    "\n",
    "df['Country'] = df['Player'].str.split(pat = '(').str[1]\n",
    "df['Country'] = df['Country'].str.split(pat = ')').str[0]\n",
    "df['Country']"
   ]
  },
  {
   "cell_type": "code",
   "execution_count": null,
   "metadata": {},
   "outputs": [],
   "source": [
    "# check whether 'Player' column values get separated or not\n",
    "\n",
    "df['Player'] = df['Player'].str.split(pat='(').str[0]\n",
    "df"
   ]
  },
  {
   "cell_type": "code",
   "execution_count": null,
   "metadata": {},
   "outputs": [],
   "source": [
    "# changing dtypes of highest_inner_score to integer instead of object\n",
    "\n",
    "df['Highest_Inner_Score'] = df['Highest_Inner_Score'].str.split(pat='*').str[0]\n",
    "df[\"Highest_Inner_Score\"] = df['Highest_Inner_Score'].fillna(0)\n",
    "df['Highest_Inner_Score'] = df['Highest_Inner_Score'].astype('int')\n",
    "df.info()\n",
    "\n",
    "#!! got issues overhere where Highest_Inner_Score columns got NaN value hence the dtypes cannot be change directly. instead we need to fill the NaN values using fillna() !!#"
   ]
  },
  {
   "cell_type": "code",
   "execution_count": null,
   "metadata": {},
   "outputs": [],
   "source": [
    "# changing dtypes of targeted columns\n",
    "\n",
    "df = df.astype({'Rookie_Year':'int', 'Final_year':'int'})\n",
    "df.info()"
   ]
  },
  {
   "cell_type": "code",
   "execution_count": null,
   "metadata": {},
   "outputs": [],
   "source": [
    "# Changing dtypes for Mathces column\n",
    "\n",
    "df['Matches'] = df['Matches'].astype('int')\n",
    "df['Balls_Faced'] = df['Balls_Faced'].str.split(pat='+').str[0]\n",
    "df\n"
   ]
  },
  {
   "cell_type": "code",
   "execution_count": null,
   "metadata": {},
   "outputs": [],
   "source": [
    "# Drop the null values as it caused data to be faulty \n",
    "\n",
    "df = df.drop([8,14,54],axis=0)\n",
    "df.info()"
   ]
  },
  {
   "cell_type": "code",
   "execution_count": null,
   "metadata": {},
   "outputs": [],
   "source": [
    "# Couple of dtypes changing on targeted columns \n",
    "\n",
    "df['Balls_Faced'] = df['Balls_Faced'].astype('int')\n",
    "df['Battling_Strike_Rate'] = df['Battling_Strike_Rate'].astype('float')\n",
    "df['100'] = df['100'].astype('int')\n",
    "df['0'] = df['0'].astype('int')\n",
    "df.dtypes"
   ]
  },
  {
   "cell_type": "markdown",
   "metadata": {},
   "source": [
    "Questions"
   ]
  },
  {
   "cell_type": "code",
   "execution_count": null,
   "metadata": {},
   "outputs": [],
   "source": [
    "# 1. Whats their career length?\n",
    "\n",
    "df['Career_Length'] = df['Final_year'] - df['Rookie_Year']\n",
    "df"
   ]
  },
  {
   "cell_type": "code",
   "execution_count": null,
   "metadata": {},
   "outputs": [],
   "source": [
    "# 2. Whats their average career length?\n",
    "\n",
    "df['Career_Length'].mean()"
   ]
  },
  {
   "cell_type": "code",
   "execution_count": null,
   "metadata": {},
   "outputs": [],
   "source": [
    "# 3. Avg BSR who played over 10 years?\n",
    "\n",
    "df[df['Battling_Strike_Rate']>10]['Battling_Strike_Rate'].mean()"
   ]
  },
  {
   "cell_type": "code",
   "execution_count": null,
   "metadata": {},
   "outputs": [],
   "source": [
    "# 4. Find numbers of player who played before 1960.\n",
    "\n",
    "df[df['Rookie_Year']<1960]"
   ]
  },
  {
   "cell_type": "code",
   "execution_count": null,
   "metadata": {},
   "outputs": [],
   "source": [
    "# 5. Find max HIS and group by country\n",
    "\n",
    "df.groupby('Country')['Highest_Inner_Score'].max()"
   ]
  },
  {
   "cell_type": "code",
   "execution_count": null,
   "metadata": {},
   "outputs": [],
   "source": [
    "# 6. 5 100's, 50's, 0's avg by country\n",
    "\n",
    "df.groupby('Country')[['100','50','0']].mean()"
   ]
  },
  {
   "cell_type": "code",
   "execution_count": null,
   "metadata": {},
   "outputs": [],
   "source": []
  }
 ],
 "metadata": {
  "kernelspec": {
   "display_name": "Python 3",
   "language": "python",
   "name": "python3"
  },
  "language_info": {
   "codemirror_mode": {
    "name": "ipython",
    "version": 3
   },
   "file_extension": ".py",
   "mimetype": "text/x-python",
   "name": "python",
   "nbconvert_exporter": "python",
   "pygments_lexer": "ipython3",
   "version": "3.12.0"
  }
 },
 "nbformat": 4,
 "nbformat_minor": 2
}
